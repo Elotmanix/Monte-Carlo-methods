{
 "cells": [
  {
   "cell_type": "markdown",
   "metadata": {},
   "source": [
    "# Evaluation of the integral of a function $f$ over an interval $[a,b]$"
   ]
  },
  {
   "cell_type": "markdown",
   "metadata": {},
   "source": [
    "## Classical method - rectangle rule"
   ]
  },
  {
   "cell_type": "markdown",
   "metadata": {},
   "source": [
    "We want to calculate a numerical approximation of the integral of a function $f$ over an interval $[a,b]$ whose limits are finite.\n",
    "\n",
    "Let $N$ be values $x_i$, spaced by $\\frac{b - a}{N}$ on the interval $[a,b]$.\n",
    "\n",
    "An approximation of the integral of $f$ over the interval $[a,b]$ can be obtained by the rectangle rule:\n",
    "\n",
    "$$\n",
    "  \\int_a^b f(x) dx \\approx \\frac{b - a}{N} \\sum_{i = 0}^{N - 1} f(x_i)\n",
    "$$\n"
   ]
  },
  {
   "cell_type": "code",
   "execution_count": 6,
   "metadata": {},
   "outputs": [
    {
     "name": "stdout",
     "output_type": "stream",
     "text": [
      "Rectangle Rule Approximation (N=1000): 0.001571\n",
      "Analytical Result: 0\n"
     ]
    }
   ],
   "source": [
    "import numpy as np\n",
    "\n",
    "# Define the function to integrate\n",
    "def f(x):\n",
    "    return np.sin(2 * x + np.pi / 2)\n",
    "\n",
    "# Rectangle rule implementation\n",
    "def rectangle_rule(f, a, b, N):\n",
    "    h = (b - a) / N  # Width of each subinterval\n",
    "    x = np.linspace(a, b - h, N)  # Points where we evaluate f(x)\n",
    "    integral_approx = h * np.sum(f(x))  # Rectangle rule approximation\n",
    "    return integral_approx\n",
    "\n",
    "# Parameters\n",
    "a = 0  # Lower limit\n",
    "b = np.pi / 2  # Upper limit\n",
    "N = 1000  # Number of subintervals\n",
    "\n",
    "# Perform the approximation\n",
    "approximation = rectangle_rule(f, a, b, N)\n",
    "\n",
    "# Analytical result for comparison\n",
    "analytical_result = 0  # Derived earlier\n",
    "\n",
    "# Output results\n",
    "print(f\"Rectangle Rule Approximation (N={N}): {approximation:.6f}\")\n",
    "print(f\"Analytical Result: {analytical_result}\")\n"
   ]
  },
  {
   "cell_type": "markdown",
   "metadata": {},
   "source": [
    "https://numpy.org/"
   ]
  },
  {
   "cell_type": "markdown",
   "metadata": {},
   "source": [
    "## Monte Carlo method"
   ]
  },
  {
   "cell_type": "markdown",
   "metadata": {},
   "source": [
    "Let us consider the evaluation of the integral of a function $f$ over an interval. $[a,b]$ whose boundaries are finite using the Monte Carlo method. The $\\tilde{x}^{(i)}$ are randomly drawn particles on the interval. $[a,b]$ with a uniform probability density on $[a,b]$. The approximation of the integral will be given by:\n",
    "\t\t\n",
    "$$\n",
    "    \\int_a^b f(x) dx \\approx \\frac{b - a}{N} \\sum_{i = 0}^{N - 1} f\\left(\\tilde{x}^{(i)}\\right)\n",
    "$$\n",
    "\t\t\n",
    "By using Monte Carlo approximation evaluate the integral: $\\int_0^\\frac{\\pi}{2} \\sin(2x + \\frac{\\pi}{2}) dx$.<br>\n",
    "It is possible to integrate this function analytically, the result is:\n",
    "$$\n",
    "    \\int_0^\\frac{\\pi}{2} \\sin(2x + \\frac{\\pi}{2}) dx = \\left[-\\frac{1}{2}\\cos(2x + \\frac{\\pi}{2})\\right]_{0}^{\\frac{\\pi}{2}} = 0\n",
    "$$"
   ]
  },
  {
   "cell_type": "markdown",
   "metadata": {},
   "source": [
    "https://numpy.org/\n",
    "\n",
    "https://docs.scipy.org/doc/scipy/reference/generated/scipy.stats.norm.html"
   ]
  },
  {
   "cell_type": "code",
   "execution_count": 8,
   "metadata": {},
   "outputs": [
    {
     "name": "stdout",
     "output_type": "stream",
     "text": [
      "Monte Carlo estimate of the integral with N=10000: -0.005408\n",
      "Analytical result: 0\n"
     ]
    }
   ],
   "source": [
    "import numpy as np\n",
    "\n",
    "# Define the function to integrate\n",
    "def f(x):\n",
    "    return np.sin(2 * x + np.pi / 2)\n",
    "\n",
    "# Monte Carlo integration function\n",
    "def monte_carlo_integral(f, a, b, N):\n",
    "    # Generate N random samples in the interval [a, b]\n",
    "    random_samples = np.random.uniform(a, b, N)\n",
    "    \n",
    "    # Evaluate the function at these points\n",
    "    function_values = f(random_samples)\n",
    "    \n",
    "    # Compute the Monte Carlo estimate of the integral\n",
    "    integral_estimate = (b - a) / N * np.sum(function_values)\n",
    "    return integral_estimate\n",
    "\n",
    "# Parameters\n",
    "a = 0  # Lower bound\n",
    "b = np.pi / 2  # Upper bound\n",
    "N = 10000  # Number of particles (samples)\n",
    "\n",
    "# Perform Monte Carlo integration\n",
    "estimated_integral = monte_carlo_integral(f, a, b, N)\n",
    "\n",
    "# Output the result\n",
    "print(f\"Monte Carlo estimate of the integral with N={N}: {estimated_integral:.6f}\")\n",
    "\n",
    "# Analytical result\n",
    "analytical_result = 0\n",
    "print(f\"Analytical result: {analytical_result}\")\n"
   ]
  },
  {
   "cell_type": "code",
   "execution_count": null,
   "metadata": {},
   "outputs": [],
   "source": []
  }
 ],
 "metadata": {
  "kernelspec": {
   "display_name": "Python 3",
   "language": "python",
   "name": "python3"
  },
  "language_info": {
   "codemirror_mode": {
    "name": "ipython",
    "version": 3
   },
   "file_extension": ".py",
   "mimetype": "text/x-python",
   "name": "python",
   "nbconvert_exporter": "python",
   "pygments_lexer": "ipython3",
   "version": "3.12.0"
  }
 },
 "nbformat": 4,
 "nbformat_minor": 2
}
